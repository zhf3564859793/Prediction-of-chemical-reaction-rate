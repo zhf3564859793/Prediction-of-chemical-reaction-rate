{
 "cells": [
  {
   "cell_type": "code",
   "execution_count": 8,
   "id": "6b0c14bd",
   "metadata": {},
   "outputs": [
    {
     "name": "stdout",
     "output_type": "stream",
     "text": [
      "                   英文名称         CAS号  实验值logK     CAS_NUMBER  \\\n",
      "0          flufenoxuron  101463-69-8   -1.724  '101463-69-8'   \n",
      "1         diflubenzuron   35367-38-5   -1.563   '35367-38-5'   \n",
      "2            famoxadone  131807-57-3    1.031  '131807-57-3'   \n",
      "3             oxadiazon   19666-30-9   -1.740   '19666-30-9'   \n",
      "4           flumioxazin  103361-09-7    1.841  '103361-09-7'   \n",
      "..                  ...          ...      ...            ...   \n",
      "88    tribenuron-methyl  101200-48-0    1.461  '101200-48-0'   \n",
      "89  chlorantraniliprole  500008-45-7   -1.161  '500008-45-7'   \n",
      "90            cefoxitin   35607-66-0   -0.979   '35607-66-0'   \n",
      "91           ccphradinc   38821-53-3   -0.983   '38821-53-3'   \n",
      "92          propicillin     551-27-9   -0.777     '551-27-9'   \n",
      "\n",
      "                                                smile  \n",
      "0   C1=CC(=C(C(=C1)F)C(=O)NC(=O)NC2=C(C=C(C=C2)OC3...  \n",
      "1      C1=CC(=C(C(=C1)F)C(=O)NC(=O)NC2=CC=C(C=C2)Cl)F  \n",
      "2   CC1(C(=O)N(C(=O)O1)NC2=CC=CC=C2)C3=CC=C(C=C3)O...  \n",
      "3   CC(C)OC1=C(C=C(C(=C1)N2C(=O)OC(=N2)C(C)(C)C)Cl)Cl  \n",
      "4   C#CCN1C(=O)COC2=CC(=C(C=C21)N3C(=O)C4=C(C3=O)C...  \n",
      "..                                                ...  \n",
      "88  CC1=NC(=NC(=N1)OC)N(C)C(=O)NS(=O)(=O)C2=CC=CC=...  \n",
      "89  CC1=CC(=CC(=C1NC(=O)C2=CC(=NN2C3=C(C=CC=N3)Cl)...  \n",
      "90  CO[C@@]1([C@@H]2N(C1=O)C(=C(CS2)COC(=O)N)C(=O)...  \n",
      "91  CC1=C(N2[C@@H]([C@@H](C2=O)NC(=O)[C@@H](C3=CCC...  \n",
      "92  CCC(C(=O)N[C@H]1[C@@H]2N(C1=O)[C@H](C(S2)(C)C)...  \n",
      "\n",
      "[93 rows x 5 columns]\n"
     ]
    }
   ],
   "source": [
    "import numpy as np\n",
    "import pandas as pd\n",
    "import pickle\n",
    "data1 = pickle.load( open('data1.pckl','rb'))\n",
    "print(data1)"
   ]
  },
  {
   "cell_type": "code",
   "execution_count": 9,
   "id": "7d108ecb",
   "metadata": {},
   "outputs": [],
   "source": [
    "import numpy as np\n",
    "import pandas as pd\n",
    "import sys, os\n",
    "#sys.path.append(os.path.dirname(os.path.dirname(os.getcwd()))+'/mol2vec')\n",
    "from rdkit import Chem\n",
    "from rdkit.Chem import PandasTools\n",
    "from rdkit.Chem.Draw import IPythonConsole\n",
    "from mol2vec.features import mol2alt_sentence, mol2sentence, MolSentence, DfVec, sentences2vec\n",
    "from gensim.models import word2vec"
   ]
  },
  {
   "cell_type": "code",
   "execution_count": 10,
   "id": "64dd03d5",
   "metadata": {},
   "outputs": [],
   "source": [
    "model = word2vec.Word2Vec.load(r'D:\\AI-Drug\\Rate Prediction\\mol2vec_document\\mol2vec-master\\examples\\models\\model_300dim.pkl')"
   ]
  },
  {
   "cell_type": "code",
   "execution_count": 11,
   "id": "78cffc8b",
   "metadata": {},
   "outputs": [
    {
     "data": {
      "text/html": [
       "<div>\n",
       "<style scoped>\n",
       "    .dataframe tbody tr th:only-of-type {\n",
       "        vertical-align: middle;\n",
       "    }\n",
       "\n",
       "    .dataframe tbody tr th {\n",
       "        vertical-align: top;\n",
       "    }\n",
       "\n",
       "    .dataframe thead th {\n",
       "        text-align: right;\n",
       "    }\n",
       "</style>\n",
       "<table border=\"1\" class=\"dataframe\">\n",
       "  <thead>\n",
       "    <tr style=\"text-align: right;\">\n",
       "      <th></th>\n",
       "      <th>英文名称</th>\n",
       "      <th>CAS号</th>\n",
       "      <th>实验值logK</th>\n",
       "      <th>CAS_NUMBER</th>\n",
       "      <th>smile</th>\n",
       "      <th>ROMol</th>\n",
       "    </tr>\n",
       "  </thead>\n",
       "  <tbody>\n",
       "    <tr>\n",
       "      <th>0</th>\n",
       "      <td>flufenoxuron</td>\n",
       "      <td>101463-69-8</td>\n",
       "      <td>-1.724</td>\n",
       "      <td>'101463-69-8'</td>\n",
       "      <td>C1=CC(=C(C(=C1)F)C(=O)NC(=O)NC2=C(C=C(C=C2)OC3...</td>\n",
       "      <td>&lt;rdkit.Chem.rdchem.Mol object at 0x0000026BD25...</td>\n",
       "    </tr>\n",
       "    <tr>\n",
       "      <th>1</th>\n",
       "      <td>diflubenzuron</td>\n",
       "      <td>35367-38-5</td>\n",
       "      <td>-1.563</td>\n",
       "      <td>'35367-38-5'</td>\n",
       "      <td>C1=CC(=C(C(=C1)F)C(=O)NC(=O)NC2=CC=C(C=C2)Cl)F</td>\n",
       "      <td>&lt;rdkit.Chem.rdchem.Mol object at 0x0000026BD25...</td>\n",
       "    </tr>\n",
       "    <tr>\n",
       "      <th>2</th>\n",
       "      <td>famoxadone</td>\n",
       "      <td>131807-57-3</td>\n",
       "      <td>1.031</td>\n",
       "      <td>'131807-57-3'</td>\n",
       "      <td>CC1(C(=O)N(C(=O)O1)NC2=CC=CC=C2)C3=CC=C(C=C3)O...</td>\n",
       "      <td>&lt;rdkit.Chem.rdchem.Mol object at 0x0000026BD25...</td>\n",
       "    </tr>\n",
       "    <tr>\n",
       "      <th>3</th>\n",
       "      <td>oxadiazon</td>\n",
       "      <td>19666-30-9</td>\n",
       "      <td>-1.740</td>\n",
       "      <td>'19666-30-9'</td>\n",
       "      <td>CC(C)OC1=C(C=C(C(=C1)N2C(=O)OC(=N2)C(C)(C)C)Cl)Cl</td>\n",
       "      <td>&lt;rdkit.Chem.rdchem.Mol object at 0x0000026BD25...</td>\n",
       "    </tr>\n",
       "    <tr>\n",
       "      <th>4</th>\n",
       "      <td>flumioxazin</td>\n",
       "      <td>103361-09-7</td>\n",
       "      <td>1.841</td>\n",
       "      <td>'103361-09-7'</td>\n",
       "      <td>C#CCN1C(=O)COC2=CC(=C(C=C21)N3C(=O)C4=C(C3=O)C...</td>\n",
       "      <td>&lt;rdkit.Chem.rdchem.Mol object at 0x0000026BD25...</td>\n",
       "    </tr>\n",
       "  </tbody>\n",
       "</table>\n",
       "</div>"
      ],
      "text/plain": [
       "            英文名称         CAS号  实验值logK     CAS_NUMBER  \\\n",
       "0   flufenoxuron  101463-69-8   -1.724  '101463-69-8'   \n",
       "1  diflubenzuron   35367-38-5   -1.563   '35367-38-5'   \n",
       "2     famoxadone  131807-57-3    1.031  '131807-57-3'   \n",
       "3      oxadiazon   19666-30-9   -1.740   '19666-30-9'   \n",
       "4    flumioxazin  103361-09-7    1.841  '103361-09-7'   \n",
       "\n",
       "                                               smile  \\\n",
       "0  C1=CC(=C(C(=C1)F)C(=O)NC(=O)NC2=C(C=C(C=C2)OC3...   \n",
       "1     C1=CC(=C(C(=C1)F)C(=O)NC(=O)NC2=CC=C(C=C2)Cl)F   \n",
       "2  CC1(C(=O)N(C(=O)O1)NC2=CC=CC=C2)C3=CC=C(C=C3)O...   \n",
       "3  CC(C)OC1=C(C=C(C(=C1)N2C(=O)OC(=N2)C(C)(C)C)Cl)Cl   \n",
       "4  C#CCN1C(=O)COC2=CC(=C(C=C21)N3C(=O)C4=C(C3=O)C...   \n",
       "\n",
       "                                               ROMol  \n",
       "0  <rdkit.Chem.rdchem.Mol object at 0x0000026BD25...  \n",
       "1  <rdkit.Chem.rdchem.Mol object at 0x0000026BD25...  \n",
       "2  <rdkit.Chem.rdchem.Mol object at 0x0000026BD25...  \n",
       "3  <rdkit.Chem.rdchem.Mol object at 0x0000026BD25...  \n",
       "4  <rdkit.Chem.rdchem.Mol object at 0x0000026BD25...  "
      ]
     },
     "execution_count": 11,
     "metadata": {},
     "output_type": "execute_result"
    }
   ],
   "source": [
    "mols=[Chem.MolFromSmiles(x) for x in data1['smile']]\n",
    "data1['ROMol']=mols\n",
    "data1.head(5)"
   ]
  },
  {
   "cell_type": "code",
   "execution_count": 12,
   "id": "9ddadeae",
   "metadata": {},
   "outputs": [],
   "source": [
    "data1['sentence'] = data1.apply(lambda x: MolSentence(mol2alt_sentence(x['ROMol'], 1)), axis=1)\n",
    "data1['mol2vec'] = [DfVec(x) for x in sentences2vec(data1['sentence'], model, unseen='UNK')]"
   ]
  },
  {
   "cell_type": "code",
   "execution_count": 13,
   "id": "ecf67444",
   "metadata": {},
   "outputs": [
    {
     "data": {
      "text/html": [
       "<div>\n",
       "<style scoped>\n",
       "    .dataframe tbody tr th:only-of-type {\n",
       "        vertical-align: middle;\n",
       "    }\n",
       "\n",
       "    .dataframe tbody tr th {\n",
       "        vertical-align: top;\n",
       "    }\n",
       "\n",
       "    .dataframe thead th {\n",
       "        text-align: right;\n",
       "    }\n",
       "</style>\n",
       "<table border=\"1\" class=\"dataframe\">\n",
       "  <thead>\n",
       "    <tr style=\"text-align: right;\">\n",
       "      <th></th>\n",
       "      <th>英文名称</th>\n",
       "      <th>CAS号</th>\n",
       "      <th>实验值logK</th>\n",
       "      <th>CAS_NUMBER</th>\n",
       "      <th>smile</th>\n",
       "      <th>ROMol</th>\n",
       "      <th>sentence</th>\n",
       "      <th>mol2vec</th>\n",
       "    </tr>\n",
       "  </thead>\n",
       "  <tbody>\n",
       "    <tr>\n",
       "      <th>0</th>\n",
       "      <td>flufenoxuron</td>\n",
       "      <td>101463-69-8</td>\n",
       "      <td>-1.724</td>\n",
       "      <td>'101463-69-8'</td>\n",
       "      <td>C1=CC(=C(C(=C1)F)C(=O)NC(=O)NC2=C(C=C(C=C2)OC3...</td>\n",
       "      <td>&lt;rdkit.Chem.rdchem.Mol object at 0x0000026BD25...</td>\n",
       "      <td>(3218693969, 98513984, 3218693969, 951226070, ...</td>\n",
       "      <td>(300,) dimensional vector</td>\n",
       "    </tr>\n",
       "    <tr>\n",
       "      <th>1</th>\n",
       "      <td>diflubenzuron</td>\n",
       "      <td>35367-38-5</td>\n",
       "      <td>-1.563</td>\n",
       "      <td>'35367-38-5'</td>\n",
       "      <td>C1=CC(=C(C(=C1)F)C(=O)NC(=O)NC2=CC=C(C=C2)Cl)F</td>\n",
       "      <td>&lt;rdkit.Chem.rdchem.Mol object at 0x0000026BD25...</td>\n",
       "      <td>(3218693969, 98513984, 3218693969, 951226070, ...</td>\n",
       "      <td>(300,) dimensional vector</td>\n",
       "    </tr>\n",
       "    <tr>\n",
       "      <th>2</th>\n",
       "      <td>famoxadone</td>\n",
       "      <td>131807-57-3</td>\n",
       "      <td>1.031</td>\n",
       "      <td>'131807-57-3'</td>\n",
       "      <td>CC1(C(=O)N(C(=O)O1)NC2=CC=CC=C2)C3=CC=C(C=C3)O...</td>\n",
       "      <td>&lt;rdkit.Chem.rdchem.Mol object at 0x0000026BD25...</td>\n",
       "      <td>(2246728737, 1861965050, 2976816164, 78708495,...</td>\n",
       "      <td>(300,) dimensional vector</td>\n",
       "    </tr>\n",
       "    <tr>\n",
       "      <th>3</th>\n",
       "      <td>oxadiazon</td>\n",
       "      <td>19666-30-9</td>\n",
       "      <td>-1.740</td>\n",
       "      <td>'19666-30-9'</td>\n",
       "      <td>CC(C)OC1=C(C=C(C(=C1)N2C(=O)OC(=N2)C(C)(C)C)Cl)Cl</td>\n",
       "      <td>&lt;rdkit.Chem.rdchem.Mol object at 0x0000026BD25...</td>\n",
       "      <td>(2246728737, 3537119515, 2245273601, 161922245...</td>\n",
       "      <td>(300,) dimensional vector</td>\n",
       "    </tr>\n",
       "    <tr>\n",
       "      <th>4</th>\n",
       "      <td>flumioxazin</td>\n",
       "      <td>103361-09-7</td>\n",
       "      <td>1.841</td>\n",
       "      <td>'103361-09-7'</td>\n",
       "      <td>C#CCN1C(=O)COC2=CC(=C(C=C21)N3C(=O)C4=C(C3=O)C...</td>\n",
       "      <td>&lt;rdkit.Chem.rdchem.Mol object at 0x0000026BD25...</td>\n",
       "      <td>(2245897107, 3492293582, 2245900962, 363336963...</td>\n",
       "      <td>(300,) dimensional vector</td>\n",
       "    </tr>\n",
       "  </tbody>\n",
       "</table>\n",
       "</div>"
      ],
      "text/plain": [
       "            英文名称         CAS号  实验值logK     CAS_NUMBER  \\\n",
       "0   flufenoxuron  101463-69-8   -1.724  '101463-69-8'   \n",
       "1  diflubenzuron   35367-38-5   -1.563   '35367-38-5'   \n",
       "2     famoxadone  131807-57-3    1.031  '131807-57-3'   \n",
       "3      oxadiazon   19666-30-9   -1.740   '19666-30-9'   \n",
       "4    flumioxazin  103361-09-7    1.841  '103361-09-7'   \n",
       "\n",
       "                                               smile  \\\n",
       "0  C1=CC(=C(C(=C1)F)C(=O)NC(=O)NC2=C(C=C(C=C2)OC3...   \n",
       "1     C1=CC(=C(C(=C1)F)C(=O)NC(=O)NC2=CC=C(C=C2)Cl)F   \n",
       "2  CC1(C(=O)N(C(=O)O1)NC2=CC=CC=C2)C3=CC=C(C=C3)O...   \n",
       "3  CC(C)OC1=C(C=C(C(=C1)N2C(=O)OC(=N2)C(C)(C)C)Cl)Cl   \n",
       "4  C#CCN1C(=O)COC2=CC(=C(C=C21)N3C(=O)C4=C(C3=O)C...   \n",
       "\n",
       "                                               ROMol  \\\n",
       "0  <rdkit.Chem.rdchem.Mol object at 0x0000026BD25...   \n",
       "1  <rdkit.Chem.rdchem.Mol object at 0x0000026BD25...   \n",
       "2  <rdkit.Chem.rdchem.Mol object at 0x0000026BD25...   \n",
       "3  <rdkit.Chem.rdchem.Mol object at 0x0000026BD25...   \n",
       "4  <rdkit.Chem.rdchem.Mol object at 0x0000026BD25...   \n",
       "\n",
       "                                            sentence  \\\n",
       "0  (3218693969, 98513984, 3218693969, 951226070, ...   \n",
       "1  (3218693969, 98513984, 3218693969, 951226070, ...   \n",
       "2  (2246728737, 1861965050, 2976816164, 78708495,...   \n",
       "3  (2246728737, 3537119515, 2245273601, 161922245...   \n",
       "4  (2245897107, 3492293582, 2245900962, 363336963...   \n",
       "\n",
       "                     mol2vec  \n",
       "0  (300,) dimensional vector  \n",
       "1  (300,) dimensional vector  \n",
       "2  (300,) dimensional vector  \n",
       "3  (300,) dimensional vector  \n",
       "4  (300,) dimensional vector  "
      ]
     },
     "execution_count": 13,
     "metadata": {},
     "output_type": "execute_result"
    }
   ],
   "source": [
    "data1.head()"
   ]
  },
  {
   "cell_type": "code",
   "execution_count": 14,
   "id": "41ba6eb6",
   "metadata": {},
   "outputs": [
    {
     "name": "stdout",
     "output_type": "stream",
     "text": [
      "(93, 300)\n"
     ]
    }
   ],
   "source": [
    "X = np.array([x.vec for x in data1['mol2vec']])\n",
    "print(np.shape(X))"
   ]
  },
  {
   "cell_type": "code",
   "execution_count": 25,
   "id": "6dce7688",
   "metadata": {},
   "outputs": [
    {
     "name": "stdout",
     "output_type": "stream",
     "text": [
      "the best pca n_components is 14\n"
     ]
    }
   ],
   "source": [
    "from sklearn.decomposition import PCA\n",
    "pca = PCA()\n",
    "pca = pca.fit(X)\n",
    " \n",
    "cumsum_ratio = list(np.cumsum(pca.explained_variance_ratio_))\n",
    "alpha = 0.9  \n",
    " \n",
    "# 寻找出最优的降维的维度数，i为最优的维度数\n",
    "for i, j in enumerate(cumsum_ratio):\n",
    "    if j > alpha:\n",
    "        break\n",
    "print('the best pca n_components is', i)"
   ]
  },
  {
   "cell_type": "code",
   "execution_count": 26,
   "id": "49678ccc",
   "metadata": {},
   "outputs": [
    {
     "name": "stdout",
     "output_type": "stream",
     "text": [
      "(93, 14)\n"
     ]
    }
   ],
   "source": [
    "pca=PCA(14)\n",
    "pca.fit(X)\n",
    "X_pca=pca.transform(X)\n",
    "print(np.shape(X_pca))"
   ]
  },
  {
   "cell_type": "code",
   "execution_count": 27,
   "id": "753e63ec",
   "metadata": {},
   "outputs": [],
   "source": [
    "X_train=X_pca[0:74]\n",
    "X_test=X_pca[74:93]\n",
    "y_train=data1['实验值logK'][0:74]\n",
    "y_test=data1['实验值logK'][74:93]"
   ]
  },
  {
   "cell_type": "code",
   "execution_count": 82,
   "id": "87b17521",
   "metadata": {},
   "outputs": [
    {
     "name": "stdout",
     "output_type": "stream",
     "text": [
      "[15:13:18] WARNING: C:/Users/administrator/workspace/xgboost-win64_release_1.6.0/src/learner.cc:627: \n",
      "Parameters: { \"randam_state\" } might not be used.\n",
      "\n",
      "  This could be a false alarm, with some parameters getting used by language bindings but\n",
      "  then being mistakenly passed down to XGBoost core, or some parameter actually being used\n",
      "  but getting flagged wrongly here. Please open an issue if you find any such cases.\n",
      "\n",
      "\n",
      "1.3716649263074325\n",
      "0.4091853746131029\n"
     ]
    }
   ],
   "source": [
    "import xgboost as xgb\n",
    "from sklearn.metrics import mean_squared_error\n",
    "model = xgb.XGBRegressor(max_depth=6,learning_rate=0.005,n_estimators=400,randam_state=100,alpha=0.5,colsample_bytree =0.25)\n",
    "model.fit(X_train,y_train)\n",
    "test_predict=model.predict(X_test)\n",
    "train_predict = model.predict(X_train)\n",
    "msetest=mean_squared_error(y_test,test_predict)\n",
    "msetrain=mean_squared_error(y_train,train_predict)\n",
    "print(msetest)\n",
    "print(msetrain)"
   ]
  },
  {
   "cell_type": "code",
   "execution_count": 83,
   "id": "c1e5265e",
   "metadata": {},
   "outputs": [],
   "source": [
    "f.close()"
   ]
  },
  {
   "cell_type": "code",
   "execution_count": null,
   "id": "e1397d4c",
   "metadata": {},
   "outputs": [],
   "source": []
  }
 ],
 "metadata": {
  "kernelspec": {
   "display_name": "Python 3 (ipykernel)",
   "language": "python",
   "name": "python3"
  },
  "language_info": {
   "codemirror_mode": {
    "name": "ipython",
    "version": 3
   },
   "file_extension": ".py",
   "mimetype": "text/x-python",
   "name": "python",
   "nbconvert_exporter": "python",
   "pygments_lexer": "ipython3",
   "version": "3.7.11"
  }
 },
 "nbformat": 4,
 "nbformat_minor": 5
}
