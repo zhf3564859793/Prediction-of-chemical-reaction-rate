{
 "cells": [
  {
   "cell_type": "code",
   "execution_count": 1,
   "id": "0df18f92",
   "metadata": {},
   "outputs": [],
   "source": [
    "import numpy as np\n",
    "import pandas as pd\n",
    "import sys, os\n",
    "\n",
    "sys.path.append(os.path.dirname(os.path.dirname(os.getcwd()))+'/mol2vec')\n",
    "\n",
    "from rdkit import Chem\n",
    "from rdkit.Chem import PandasTools\n",
    "from rdkit.Chem.Draw import IPythonConsole\n",
    "\n",
    "from mol2vec.features import mol2alt_sentence, mol2sentence, MolSentence, DfVec, sentences2vec\n",
    "from gensim.models import word2vec"
   ]
  },
  {
   "cell_type": "code",
   "execution_count": 2,
   "id": "fc3f32cf",
   "metadata": {},
   "outputs": [],
   "source": [
    "df = PandasTools.LoadSDF(r'D:\\AI-Drug\\Rate Prediction\\mol2vec_document\\mol2vec-master\\examples\\data\\ames.sdf')"
   ]
  },
  {
   "cell_type": "code",
   "execution_count": 3,
   "id": "b2301d91",
   "metadata": {},
   "outputs": [
    {
     "data": {
      "text/html": [
       "<div>\n",
       "<style scoped>\n",
       "    .dataframe tbody tr th:only-of-type {\n",
       "        vertical-align: middle;\n",
       "    }\n",
       "\n",
       "    .dataframe tbody tr th {\n",
       "        vertical-align: top;\n",
       "    }\n",
       "\n",
       "    .dataframe thead th {\n",
       "        text-align: right;\n",
       "    }\n",
       "</style>\n",
       "<table border=\"1\" class=\"dataframe\">\n",
       "  <thead>\n",
       "    <tr style=\"text-align: right;\">\n",
       "      <th></th>\n",
       "      <th>class</th>\n",
       "      <th>ID</th>\n",
       "      <th>ROMol</th>\n",
       "    </tr>\n",
       "  </thead>\n",
       "  <tbody>\n",
       "    <tr>\n",
       "      <th>0</th>\n",
       "      <td>0</td>\n",
       "      <td>2475-33-4</td>\n",
       "      <td>&lt;rdkit.Chem.rdchem.Mol object at 0x000001E6780...</td>\n",
       "    </tr>\n",
       "    <tr>\n",
       "      <th>1</th>\n",
       "      <td>0</td>\n",
       "      <td>105149-00-6</td>\n",
       "      <td>&lt;rdkit.Chem.rdchem.Mol object at 0x000001E6780...</td>\n",
       "    </tr>\n",
       "    <tr>\n",
       "      <th>2</th>\n",
       "      <td>0</td>\n",
       "      <td>108-78-1</td>\n",
       "      <td>&lt;rdkit.Chem.rdchem.Mol object at 0x000001E6780...</td>\n",
       "    </tr>\n",
       "    <tr>\n",
       "      <th>3</th>\n",
       "      <td>1</td>\n",
       "      <td>2425-85-6</td>\n",
       "      <td>&lt;rdkit.Chem.rdchem.Mol object at 0x000001E6780...</td>\n",
       "    </tr>\n",
       "    <tr>\n",
       "      <th>4</th>\n",
       "      <td>0</td>\n",
       "      <td>67019-24-3</td>\n",
       "      <td>&lt;rdkit.Chem.rdchem.Mol object at 0x000001E6780...</td>\n",
       "    </tr>\n",
       "  </tbody>\n",
       "</table>\n",
       "</div>"
      ],
      "text/plain": [
       "  class            ID                                              ROMol\n",
       "0     0    2475-33-4   <rdkit.Chem.rdchem.Mol object at 0x000001E6780...\n",
       "1     0  105149-00-6   <rdkit.Chem.rdchem.Mol object at 0x000001E6780...\n",
       "2     0     108-78-1   <rdkit.Chem.rdchem.Mol object at 0x000001E6780...\n",
       "3     1    2425-85-6   <rdkit.Chem.rdchem.Mol object at 0x000001E6780...\n",
       "4     0   67019-24-3   <rdkit.Chem.rdchem.Mol object at 0x000001E6780..."
      ]
     },
     "execution_count": 3,
     "metadata": {},
     "output_type": "execute_result"
    }
   ],
   "source": [
    "df.head()"
   ]
  },
  {
   "cell_type": "code",
   "execution_count": 4,
   "id": "afdc86d5",
   "metadata": {},
   "outputs": [
    {
     "data": {
      "text/plain": [
       "6506"
      ]
     },
     "execution_count": 4,
     "metadata": {},
     "output_type": "execute_result"
    }
   ],
   "source": [
    "len(df)"
   ]
  },
  {
   "cell_type": "code",
   "execution_count": 4,
   "id": "646045c5",
   "metadata": {},
   "outputs": [],
   "source": [
    "model = word2vec.Word2Vec.load(r'D:\\AI-Drug\\Rate Prediction\\mol2vec_document\\mol2vec-master\\examples\\models\\model_300dim.pkl')"
   ]
  },
  {
   "cell_type": "code",
   "execution_count": 5,
   "id": "f42464c2",
   "metadata": {},
   "outputs": [],
   "source": [
    "df['sentence'] = df.apply(lambda x: MolSentence(mol2alt_sentence(x['ROMol'], 1)), axis=1)\n",
    "df['mol2vec'] = [DfVec(x) for x in sentences2vec(df['sentence'], model, unseen='UNK')]"
   ]
  },
  {
   "cell_type": "code",
   "execution_count": 6,
   "id": "b53ce465",
   "metadata": {},
   "outputs": [
    {
     "data": {
      "text/html": [
       "<div>\n",
       "<style scoped>\n",
       "    .dataframe tbody tr th:only-of-type {\n",
       "        vertical-align: middle;\n",
       "    }\n",
       "\n",
       "    .dataframe tbody tr th {\n",
       "        vertical-align: top;\n",
       "    }\n",
       "\n",
       "    .dataframe thead th {\n",
       "        text-align: right;\n",
       "    }\n",
       "</style>\n",
       "<table border=\"1\" class=\"dataframe\">\n",
       "  <thead>\n",
       "    <tr style=\"text-align: right;\">\n",
       "      <th></th>\n",
       "      <th>class</th>\n",
       "      <th>ID</th>\n",
       "      <th>ROMol</th>\n",
       "      <th>sentence</th>\n",
       "      <th>mol2vec</th>\n",
       "    </tr>\n",
       "  </thead>\n",
       "  <tbody>\n",
       "    <tr>\n",
       "      <th>0</th>\n",
       "      <td>0</td>\n",
       "      <td>2475-33-4</td>\n",
       "      <td>&lt;rdkit.Chem.rdchem.Mol object at 0x000001E6780...</td>\n",
       "      <td>(864942730, 10565946, 3217380708, 3631761933, ...</td>\n",
       "      <td>(300,) dimensional vector</td>\n",
       "    </tr>\n",
       "    <tr>\n",
       "      <th>1</th>\n",
       "      <td>0</td>\n",
       "      <td>105149-00-6</td>\n",
       "      <td>&lt;rdkit.Chem.rdchem.Mol object at 0x000001E6780...</td>\n",
       "      <td>(2246728737, 3545365497, 2246699815, 266499585...</td>\n",
       "      <td>(300,) dimensional vector</td>\n",
       "    </tr>\n",
       "    <tr>\n",
       "      <th>2</th>\n",
       "      <td>0</td>\n",
       "      <td>108-78-1</td>\n",
       "      <td>&lt;rdkit.Chem.rdchem.Mol object at 0x000001E6780...</td>\n",
       "      <td>(847957139, 1083852209, 3217380708, 472281497,...</td>\n",
       "      <td>(300,) dimensional vector</td>\n",
       "    </tr>\n",
       "    <tr>\n",
       "      <th>3</th>\n",
       "      <td>1</td>\n",
       "      <td>2425-85-6</td>\n",
       "      <td>&lt;rdkit.Chem.rdchem.Mol object at 0x000001E6780...</td>\n",
       "      <td>(2246728737, 422715066, 3217380708, 3207567135...</td>\n",
       "      <td>(300,) dimensional vector</td>\n",
       "    </tr>\n",
       "    <tr>\n",
       "      <th>4</th>\n",
       "      <td>0</td>\n",
       "      <td>67019-24-3</td>\n",
       "      <td>&lt;rdkit.Chem.rdchem.Mol object at 0x000001E6780...</td>\n",
       "      <td>(2246728737, 3537119515, 2245273601, 242354360...</td>\n",
       "      <td>(300,) dimensional vector</td>\n",
       "    </tr>\n",
       "  </tbody>\n",
       "</table>\n",
       "</div>"
      ],
      "text/plain": [
       "  class            ID                                              ROMol  \\\n",
       "0     0    2475-33-4   <rdkit.Chem.rdchem.Mol object at 0x000001E6780...   \n",
       "1     0  105149-00-6   <rdkit.Chem.rdchem.Mol object at 0x000001E6780...   \n",
       "2     0     108-78-1   <rdkit.Chem.rdchem.Mol object at 0x000001E6780...   \n",
       "3     1    2425-85-6   <rdkit.Chem.rdchem.Mol object at 0x000001E6780...   \n",
       "4     0   67019-24-3   <rdkit.Chem.rdchem.Mol object at 0x000001E6780...   \n",
       "\n",
       "                                            sentence  \\\n",
       "0  (864942730, 10565946, 3217380708, 3631761933, ...   \n",
       "1  (2246728737, 3545365497, 2246699815, 266499585...   \n",
       "2  (847957139, 1083852209, 3217380708, 472281497,...   \n",
       "3  (2246728737, 422715066, 3217380708, 3207567135...   \n",
       "4  (2246728737, 3537119515, 2245273601, 242354360...   \n",
       "\n",
       "                     mol2vec  \n",
       "0  (300,) dimensional vector  \n",
       "1  (300,) dimensional vector  \n",
       "2  (300,) dimensional vector  \n",
       "3  (300,) dimensional vector  \n",
       "4  (300,) dimensional vector  "
      ]
     },
     "execution_count": 6,
     "metadata": {},
     "output_type": "execute_result"
    }
   ],
   "source": [
    "df.head()"
   ]
  },
  {
   "cell_type": "code",
   "execution_count": 9,
   "id": "e658de83",
   "metadata": {},
   "outputs": [
    {
     "data": {
      "text/plain": [
       "array([ 5.4569573e+00, -4.5774226e+00, -1.2368451e+01,  1.6083830e+01,\n",
       "       -3.4344354e+00,  7.8346562e+00, -1.9782095e+01,  2.4867506e+00,\n",
       "        1.1419450e+01,  1.1417440e+01, -9.0617828e+00, -8.7552130e-01,\n",
       "       -1.7590702e+01, -8.9261091e-01, -1.0669560e+01,  3.1299016e+00,\n",
       "        7.4900413e+00, -8.2281895e+00, -7.2957749e+00,  1.4930939e+01,\n",
       "        3.1109862e+00,  1.6593018e+01,  3.1732065e+01,  2.3081747e+01,\n",
       "       -1.8497038e+01, -5.9619637e+00, -2.1787539e+00, -2.1790316e+01,\n",
       "        6.0134184e-01,  2.8226905e+00,  2.8222307e+01, -1.2402632e+01,\n",
       "       -6.3831921e+00, -1.6101770e+01,  1.4035272e+01,  1.1607525e+01,\n",
       "        1.8667759e+00,  3.3354443e-01,  1.5872900e+01,  7.4314289e+00,\n",
       "       -1.5619795e+00, -3.7712212e+00, -1.0340467e+01,  2.6325300e+00,\n",
       "       -2.4675711e+01,  9.0269032e+00, -5.5357995e+00,  1.0565917e+01,\n",
       "       -1.0436458e+01, -1.0878086e-02,  1.2207945e+01, -1.3658039e+01,\n",
       "        2.4342692e-01, -2.0825615e+01, -9.5794716e+00, -5.7432823e+00,\n",
       "       -1.2205669e+01,  7.7496201e-01,  5.1499352e+00,  3.8194926e+00,\n",
       "        3.9916503e+00, -2.1528006e+01, -6.7556512e-01,  2.1540749e+00,\n",
       "       -2.7927929e+01,  5.1025825e+00,  2.0209427e+01,  1.8354627e-01,\n",
       "       -6.4091411e+00,  1.7565142e+00, -1.1074169e+01,  1.0116135e+00,\n",
       "        1.2789083e+01, -1.1954603e+01, -5.4387512e+00,  7.8039327e+00,\n",
       "       -8.1876745e+00,  1.2153812e+01,  1.4163427e-01,  1.9036305e+00,\n",
       "        5.9905033e+00, -6.8440971e+00, -1.5292378e+01, -2.2578697e+01,\n",
       "        2.0213990e+00, -3.0825512e+00, -6.7428756e+00,  3.5721204e+00,\n",
       "        1.2062067e+01,  2.4659956e+00,  1.0989878e+01,  7.0425346e-02,\n",
       "        8.5678692e+00,  1.0655075e+01,  3.8766617e-01, -2.9909654e+00,\n",
       "        1.1273508e+01,  1.2832687e+01,  1.0319216e+01,  2.8755162e+00,\n",
       "       -5.8051095e+00, -1.7301453e+01, -6.5149531e+00, -2.6716175e+01,\n",
       "        1.0589200e+01, -2.1295164e+01,  3.9319000e+00,  9.0470285e+00,\n",
       "        5.8641667e+00, -7.2765961e+00, -2.1028925e+01, -3.1875825e+00,\n",
       "        5.9911408e+00,  3.0595865e+00,  6.9091153e+00, -1.6384161e+01,\n",
       "        1.0719733e+01,  2.0708136e+01, -1.0681381e+01,  1.5998020e+00,\n",
       "       -2.4289766e+01,  8.9703808e+00, -3.8512530e+00,  1.8279276e+01,\n",
       "        6.6775417e+00, -1.3394660e+01, -1.9484238e+01, -4.4473209e+00,\n",
       "       -1.8139872e+01, -8.3773727e+00,  3.5552490e+00, -4.1758404e+00,\n",
       "        2.1972403e+01,  2.3534101e+01, -9.9406910e+00,  2.1628653e+01,\n",
       "        2.2088367e+01,  3.7932367e+00,  1.4944764e+01, -1.1885434e+01,\n",
       "        1.2656099e+01, -7.6655884e+00,  3.7377633e-02,  1.1250499e+00,\n",
       "        9.7760019e+00,  1.8027878e+01, -2.4648135e+00, -3.0770535e+00,\n",
       "       -2.9684322e+00,  1.8351957e+01,  1.2700002e+01, -2.3091279e-01,\n",
       "        1.9269958e+01,  9.6267253e-02, -2.3928452e+00, -5.4806099e+00,\n",
       "       -7.7502661e+00, -8.6410294e+00,  3.6671269e+00, -1.7785695e+00,\n",
       "       -6.4151592e+00, -4.4214115e+00, -1.1243308e+01, -5.7848582e+00,\n",
       "        6.5348206e+00, -2.1013628e+01, -4.4127779e+00, -1.4165680e+00,\n",
       "       -2.2784345e+00,  1.1813157e+01, -9.1688824e+00, -6.6354680e+00,\n",
       "        2.0255346e+01, -1.1225538e+00,  7.7249660e+00,  9.2461467e-02,\n",
       "        8.2496967e+00, -1.3799123e+01, -1.0423143e+01,  1.6779177e+01,\n",
       "       -1.1537368e+01,  1.3145826e+01, -6.5829039e+00,  1.7084902e+01,\n",
       "        1.9196636e+01, -3.5077059e-01, -3.9772115e+00, -9.9365568e-01,\n",
       "       -3.1444452e+00, -1.3433281e+01, -1.8568842e+00,  5.7697978e+00,\n",
       "        1.5300575e+00,  7.0975375e-01, -9.6215880e-01,  1.8409435e+00,\n",
       "       -1.2855860e+01, -1.1781150e+01, -4.2939291e+00, -1.1463268e+00,\n",
       "        5.2953353e+00, -1.7932551e+00,  2.7949424e+00,  4.1800055e-01,\n",
       "        1.3364564e+01, -4.6550781e-01,  1.8561209e+01,  8.8883705e+00,\n",
       "        1.7106087e+01,  1.1605707e+00,  2.2616056e+01, -4.4154620e+00,\n",
       "        1.4985029e+01, -1.0004421e+01,  5.9231730e+00, -2.8595358e-01,\n",
       "       -3.7924342e+00,  1.3571904e+01, -1.8752640e+01,  9.8138494e+00,\n",
       "       -4.0049596e+00, -1.4028593e+01, -6.3144126e+00,  3.9057574e+00,\n",
       "        3.8139193e+00, -5.0653720e+00, -3.0127244e+00,  1.3332194e+01,\n",
       "        1.0482541e+01, -1.6201351e+01,  4.9905443e+00, -1.8429178e+00,\n",
       "       -1.0004143e+01, -2.4906654e+01, -5.3047976e+00, -1.6135012e+01,\n",
       "       -3.5296462e+00, -7.4164553e+00, -7.6697869e+00,  1.6113167e+01,\n",
       "        1.1694135e+01,  3.3544803e+00,  1.2100894e+01,  1.7967573e+00,\n",
       "       -1.4815250e+01,  8.9533787e+00, -3.1211153e+01, -1.8696211e+01,\n",
       "        6.6914239e+00, -8.3685322e+00, -2.7761189e+01,  1.2742802e+01,\n",
       "       -6.5557952e+00,  6.4575663e+00, -1.6707428e+01,  3.2995691e+00,\n",
       "        9.7326326e+00, -1.3632672e+01,  9.4869146e+00, -1.3540731e+01,\n",
       "       -3.6227897e-01,  1.1693137e+01,  8.2104483e+00,  2.6633690e+01,\n",
       "        1.5656368e+00, -1.1305173e+01, -1.6032246e+01,  3.0183229e+00,\n",
       "       -1.5584162e+00, -8.8876648e+00, -5.6199980e+00,  6.3695245e+00,\n",
       "       -6.4292073e+00,  2.9089141e+00, -2.8225160e+00, -9.7881756e+00,\n",
       "       -3.2372999e+00, -6.8723726e+00,  1.2563761e+00, -1.5222768e+00,\n",
       "       -1.2711224e+01, -8.0710497e+00, -3.1211319e+01, -1.2690745e+01,\n",
       "       -2.8883836e+00,  4.2371197e+00, -3.9867911e+00, -3.0086026e+00,\n",
       "       -1.1646378e+01, -1.3809249e+00,  1.4304856e+00,  2.6688829e+01,\n",
       "        2.3171576e+01, -1.2600163e+00, -9.8608351e+00, -8.8983927e+00,\n",
       "       -5.8090053e+00, -2.7766454e+00, -2.5595627e+01,  3.4282453e+00],\n",
       "      dtype=float32)"
      ]
     },
     "execution_count": 9,
     "metadata": {},
     "output_type": "execute_result"
    }
   ],
   "source": [
    "df['mol2vec'][0].vec"
   ]
  },
  {
   "cell_type": "code",
   "execution_count": 7,
   "id": "ef410009",
   "metadata": {},
   "outputs": [],
   "source": [
    "X = np.array([x.vec for x in df['mol2vec']])\n",
    "y = np.array(df['class'].astype(int))"
   ]
  },
  {
   "cell_type": "code",
   "execution_count": 8,
   "id": "63b7891a",
   "metadata": {},
   "outputs": [],
   "source": [
    "from sklearn.model_selection import StratifiedKFold\n",
    "from sklearn.ensemble import RandomForestClassifier"
   ]
  },
  {
   "cell_type": "code",
   "execution_count": 9,
   "id": "64123e87",
   "metadata": {},
   "outputs": [],
   "source": [
    "kf = StratifiedKFold(n_splits=4, shuffle=True, random_state=0)"
   ]
  },
  {
   "cell_type": "code",
   "execution_count": 10,
   "id": "3072c6a1",
   "metadata": {},
   "outputs": [],
   "source": [
    "y_values = []\n",
    "predictions = []\n",
    "probas = []\n",
    "for train, test in kf.split(X, y):\n",
    "    clf = RandomForestClassifier(n_estimators=500, random_state=0)\n",
    "    clf.fit(X[train], y[train])\n",
    "    predictions.append(clf.predict(X[test]))\n",
    "    probas.append(clf.predict_proba(X[test]).T[1]) # Probabilities for class 1\n",
    "    y_values.append(y[test])\n",
    "    del clf"
   ]
  },
  {
   "cell_type": "code",
   "execution_count": 11,
   "id": "5a4abf2b",
   "metadata": {},
   "outputs": [],
   "source": [
    "from matplotlib import pyplot as plt\n",
    "from sklearn.metrics import roc_curve, roc_auc_score"
   ]
  },
  {
   "cell_type": "code",
   "execution_count": 12,
   "id": "6a4845dc",
   "metadata": {},
   "outputs": [],
   "source": [
    "aucs = [roc_auc_score(y, proba) for y, proba in zip(y_values, probas)]"
   ]
  },
  {
   "cell_type": "code",
   "execution_count": 13,
   "id": "50372647",
   "metadata": {},
   "outputs": [
    {
     "data": {
      "text/plain": [
       "(0.8686917091204087, 0.004411664917973581)"
      ]
     },
     "execution_count": 13,
     "metadata": {},
     "output_type": "execute_result"
    }
   ],
   "source": [
    "np.mean(aucs), np.std(aucs)"
   ]
  },
  {
   "cell_type": "code",
   "execution_count": 14,
   "id": "bfb1f27a",
   "metadata": {},
   "outputs": [
    {
     "data": {
      "image/png": "[encoded data removed]",
      "text/plain": [
       "<Figure size 1200x300 with 4 Axes>"
      ]
     },
     "metadata": {},
     "output_type": "display_data"
    }
   ],
   "source": [
    "f, ((p1, p2, p3, p4)) = plt.subplots(1,4, squeeze=True, sharex=True, sharey=True, \n",
    "                                                    figsize=(12,3))\n",
    "\n",
    "for y,proba,ax in zip(y_values, probas, (p1,p2,p3,p4)):\n",
    "    tpr, fpr, _ = roc_curve(y, proba)\n",
    "    auc = roc_auc_score(y, proba)\n",
    "    ax.plot(tpr, fpr)\n",
    "    ax.get_xaxis().set_visible(False)\n",
    "    ax.get_yaxis().set_visible(False)\n",
    "    ax.text(0.95, 0.01, u\"%0.2f\" % auc,\n",
    "            verticalalignment='bottom', horizontalalignment='right',\n",
    "            transform=ax.transAxes, weight='bold',\n",
    "            fontsize=10)\n",
    "plt.show()"
   ]
  },
  {
   "cell_type": "code",
   "execution_count": null,
   "id": "63f81ad2",
   "metadata": {},
   "outputs": [],
   "source": []
  }
 ],
 "metadata": {
  "kernelspec": {
   "display_name": "Python 3 (ipykernel)",
   "language": "python",
   "name": "python3"
  },
  "language_info": {
   "codemirror_mode": {
    "name": "ipython",
    "version": 3
   },
   "file_extension": ".py",
   "mimetype": "text/x-python",
   "name": "python",
   "nbconvert_exporter": "python",
   "pygments_lexer": "ipython3",
   "version": "3.7.11"
  }
 },
 "nbformat": 4,
 "nbformat_minor": 5
}
